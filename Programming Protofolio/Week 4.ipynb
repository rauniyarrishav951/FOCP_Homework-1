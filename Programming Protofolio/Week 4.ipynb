{
 "cells": [
  {
   "cell_type": "markdown",
   "id": "c009cd2c-03e7-491a-adb8-f32f3dce3a57",
   "metadata": {},
   "source": [
    "## Fundamentals of Computer Programming"
   ]
  },
  {
   "cell_type": "markdown",
   "id": "26af7e78-9aa5-43b3-8526-699369d7bebc",
   "metadata": {},
   "source": [
    "### Week 4"
   ]
  },
  {
   "cell_type": "markdown",
   "id": "1ea20a88-913f-4528-9dd8-294d1ca34e44",
   "metadata": {},
   "source": [
    "##### 1. Functions are often used to validate input. Write a function that accepts a single\n",
    "##### integer as a parameter and returns True if the integer is in the range 0 to 100\n",
    "##### (inclusive), or False otherwise. Write a short program to test the function.\n"
   ]
  },
  {
   "cell_type": "code",
   "execution_count": 2,
   "id": "dddba2da-dba9-4703-9e45-c63b4b784a44",
   "metadata": {},
   "outputs": [
    {
     "name": "stdin",
     "output_type": "stream",
     "text": [
      "Enter an integer:  10\n"
     ]
    },
    {
     "name": "stdout",
     "output_type": "stream",
     "text": [
      "10 is in the range 0 to 100.\n"
     ]
    }
   ],
   "source": [
    "def range(number):\n",
    "    return 0 <= number <= 100\n",
    "\n",
    "\n",
    "user_input = int(input(\"Enter an integer: \"))\n",
    "\n",
    "if range(user_input):\n",
    "    print(f\"{user_input} is in the range 0 to 100.\")\n",
    "else:\n",
    "    print(f\"{user_input} is outside the range 0 to 100.\")"
   ]
  },
  {
   "cell_type": "markdown",
   "id": "9f2e76ef-5894-4660-b663-33ccc631a001",
   "metadata": {},
   "source": [
    "##### 2. Write a function that has a single string as its parameter, and returns the number of\n",
    "##### uppercase letters, and the number of lowercase letters in the string. Test the\n",
    "##### function with a short program."
   ]
  },
  {
   "cell_type": "code",
   "execution_count": 5,
   "id": "63ead276-4ac5-4fad-b2d1-dd66b519d3a6",
   "metadata": {},
   "outputs": [
    {
     "name": "stdout",
     "output_type": "stream",
     "text": [
      "RISHAV\n",
      "rishav\n"
     ]
    }
   ],
   "source": [
    "def letters(number):\n",
    "     a= number.upper()\n",
    "     b= number.lower()\n",
    "     print(a)\n",
    "     print(b)\n",
    "    \n",
    "    \n",
    "    \n",
    "letters(\"Rishav\")"
   ]
  },
  {
   "cell_type": "markdown",
   "id": "97425378-bcb2-46ce-86bf-b67ae17fa852",
   "metadata": {},
   "source": [
    "##### 3. Modify your \"greetings\" program so that the first letter of the name entered is\n",
    "##### always in uppercase with the rest in lowercase. This should happen even if the user\n",
    "##### entered their name differently. So if the user entered arthur, ARTHUR, or even\n",
    "##### arTHur the name should be displayed as Arthur"
   ]
  },
  {
   "cell_type": "code",
   "execution_count": 3,
   "id": "09a650f8-8ff8-4228-baa3-c3376a6e671c",
   "metadata": {},
   "outputs": [
    {
     "name": "stdin",
     "output_type": "stream",
     "text": [
      "Enter your name:  arTHur\n"
     ]
    },
    {
     "name": "stdout",
     "output_type": "stream",
     "text": [
      "Arthur\n"
     ]
    }
   ],
   "source": [
    "def user():\n",
    "    name = input(\"Enter your name: \")\n",
    "    formatted_name = name.capitalize()  \n",
    "    print(formatted_name)\n",
    "\n",
    "\n",
    "user()"
   ]
  },
  {
   "cell_type": "markdown",
   "id": "18f3c96a-7a7a-41c2-b46f-3f70dc2a934a",
   "metadata": {},
   "source": [
    "##### 4. When processing data it is often useful to remove the last character from some\n",
    "##### input (it is often a newline). Write and test a function that takes a string parameter\n",
    "##### and returns it with the last character removed. (If the string contains one or fewer\n",
    "##### characters, return it unchanged.)"
   ]
  },
  {
   "cell_type": "code",
   "execution_count": 6,
   "id": "d71e2049-aed1-4aa5-9198-eb3d1821910c",
   "metadata": {},
   "outputs": [
    {
     "name": "stdout",
     "output_type": "stream",
     "text": [
      "Original string: Hello, Result: Hell\n"
     ]
    }
   ],
   "source": [
    "def character(input_string):\n",
    "    \n",
    "    if len(input_string) <= 1:\n",
    "        return input_string\n",
    "\n",
    "    \n",
    "    modified_string = input_string[:-1]\n",
    "    return modified_string\n",
    "\n",
    "\n",
    "string = \"Hello\"\n",
    "\n",
    "\n",
    "result = character(test_string1)\n",
    "\n",
    "\n",
    "print(f\"Original string: {string}, Result: {result}\")\n"
   ]
  },
  {
   "cell_type": "markdown",
   "id": "e3471678-a4b6-46ad-85df-5e08d74876e3",
   "metadata": {},
   "source": [
    "##### 5. Write and test a function that converts a temperature measured in degrees\n",
    "##### centigrade into the equivalent in fahrenheit, and another that does the reverse\n",
    "##### conversion. Test both functions. (Google will find you the formulae)."
   ]
  },
  {
   "cell_type": "code",
   "execution_count": 7,
   "id": "dc560949-80f2-4345-aac9-2307df202142",
   "metadata": {},
   "outputs": [
    {
     "name": "stdout",
     "output_type": "stream",
     "text": [
      "25°C is equal to 77.00°F\n",
      "77°F is equal to 25.00°C\n"
     ]
    }
   ],
   "source": [
    "def celsius_to_fahrenheit(celsius):\n",
    "    \n",
    "    fahrenheit = (celsius * 9/5) + 32\n",
    "    return fahrenheit\n",
    "\n",
    "def fahrenheit_to_celsius(fahrenheit):\n",
    "\n",
    "    celsius = (fahrenheit - 32) * 5/9\n",
    "    return celsius\n",
    "\n",
    "\n",
    "celsius_temperature = 25\n",
    "fahrenheit_temperature = celsius_to_fahrenheit(celsius_temperature)\n",
    "print(f\"{celsius_temperature}°C is equal to {fahrenheit_temperature:.2f}°F\")\n",
    "\n",
    "fahrenheit_temperature = 77\n",
    "celsius_temperature = fahrenheit_to_celsius(fahrenheit_temperature)\n",
    "print(f\"{fahrenheit_temperature}°F is equal to {celsius_temperature:.2f}°C\")\n"
   ]
  }
 ],
 "metadata": {
  "kernelspec": {
   "display_name": "Python 3 (ipykernel)",
   "language": "python",
   "name": "python3"
  },
  "language_info": {
   "codemirror_mode": {
    "name": "ipython",
    "version": 3
   },
   "file_extension": ".py",
   "mimetype": "text/x-python",
   "name": "python",
   "nbconvert_exporter": "python",
   "pygments_lexer": "ipython3",
   "version": "3.10.9"
  }
 },
 "nbformat": 4,
 "nbformat_minor": 5
}
