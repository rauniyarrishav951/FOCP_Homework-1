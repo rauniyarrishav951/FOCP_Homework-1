{
 "cells": [
  {
   "cell_type": "markdown",
   "metadata": {},
   "source": [
    "## Fundamentals of Computer Programming"
   ]
  },
  {
   "cell_type": "markdown",
   "metadata": {},
   "source": [
    "### Week 2"
   ]
  },
  {
   "cell_type": "markdown",
   "metadata": {},
   "source": [
    "##### 1. Last week you wrote a program that printed out a cheery greeting including your\n",
    "##### name. Take a copy of it, and modify it so that the user enters their name at the\n",
    "##### keyboard, and then receives a greeting."
   ]
  },
  {
   "cell_type": "code",
   "execution_count": 1,
   "metadata": {},
   "outputs": [
    {
     "name": "stdin",
     "output_type": "stream",
     "text": [
      "Hello, what is your name?  Mr Apricot\n"
     ]
    },
    {
     "name": "stdout",
     "output_type": "stream",
     "text": [
      "Hello, Mr Apricot. Good to meet you!\n"
     ]
    }
   ],
   "source": [
    "\n",
    "name = input(\"Hello, what is your name? \")\n",
    "print(\"Hello, \" + name + \". Good to meet you!\")"
   ]
  },
  {
   "cell_type": "markdown",
   "metadata": {},
   "source": [
    "##### 2. Write a program that prompts a user to enter a temperature in Celsius, and then\n",
    "##### displays the corresponding temperature in Fahrenheit, like so:\n",
    "##### Enter a temperature in Celsius: 32.5\n",
    "##### 32.5C is equivalent to 90.5F."
   ]
  },
  {
   "cell_type": "code",
   "execution_count": 2,
   "metadata": {},
   "outputs": [
    {
     "name": "stdin",
     "output_type": "stream",
     "text": [
      "Enter a temperature in Celsius:  32.5\n"
     ]
    },
    {
     "name": "stdout",
     "output_type": "stream",
     "text": [
      "The temperature in fahrenheit: 90.5\n"
     ]
    }
   ],
   "source": [
    "\n",
    "celsius_temperature = input(\"Enter a temperature in Celsius: \")\n",
    "if celsius_temperature.strip():\n",
    "   \n",
    "   fahrenheit_temperature = float(celsius_temperature) * 9/5 + 32\n",
    "   print(\"The temperature in fahrenheit:\",fahrenheit_temperature)"
   ]
  },
  {
   "cell_type": "markdown",
   "metadata": {},
   "source": [
    "##### 3. The Head of Computing at the University of Poppleton is tasked with dividing a\n",
    "##### group of students into lab groups. A lab group is usually 24 students, but this is\n",
    "##### sometimes varied to create groups of similar size. Write a program that prompts for\n",
    "##### the number of students and group size, and then displays how many groups will be\n",
    "##### needed and how many will be left over in a smaller group."
   ]
  },
  {
   "cell_type": "code",
   "execution_count": 3,
   "metadata": {},
   "outputs": [
    {
     "name": "stdin",
     "output_type": "stream",
     "text": [
      "How many students?  14\n",
      "Required group size?  20\n"
     ]
    },
    {
     "name": "stdout",
     "output_type": "stream",
     "text": [
      "There will be 0 groups with 14 students left over.\n"
     ]
    }
   ],
   "source": [
    "def main():\n",
    "    \n",
    "    num_students = int(input(\"How many students? \"))\n",
    "    group_size = int(input(\"Required group size? \"))\n",
    "\n",
    "\n",
    "    num_groups = num_students // group_size\n",
    "    remaining_students = num_students % group_size\n",
    "\n",
    "    \n",
    "    if num_groups == 1:\n",
    "        group_plural = \"group\"\n",
    "    else:\n",
    "        group_plural = \"groups\"\n",
    "\n",
    "    if remaining_students == 1:\n",
    "        student_plural = \"student\"\n",
    "    else:\n",
    "        student_plural = \"students\"\n",
    "\n",
    "    \n",
    "    print(f\"There will be {num_groups} {group_plural} with {remaining_students} {student_plural} left over.\")\n",
    "\n",
    "if __name__ == \"__main__\":\n",
    "    main()"
   ]
  },
  {
   "cell_type": "markdown",
   "metadata": {},
   "source": [
    "##### 4. A kindly teacher wishes to distribute a tub of sweets between her pupils. She will\n",
    "##### first count the sweets and then divide them according to how many pupils attend\n",
    "##### that day. Write a program that will tell the teacher how many sweets to give to each\n",
    "##### pupil, and how many she will have left over."
   ]
  },
  {
   "cell_type": "code",
   "execution_count": 4,
   "metadata": {},
   "outputs": [
    {
     "name": "stdin",
     "output_type": "stream",
     "text": [
      "Enter the total number of sweets:  40\n",
      "Enter the number of pupils:  15\n"
     ]
    },
    {
     "name": "stdout",
     "output_type": "stream",
     "text": [
      "Each pupil will receive 2 sweets.\n",
      "The teacher will have 10 sweets left over.\n"
     ]
    }
   ],
   "source": [
    "total_sweets = int(input(\"Enter the total number of sweets: \"))\n",
    "num_pupils = int(input(\"Enter the number of pupils: \"))\n",
    "sweets_per_pupil = total_sweets // num_pupils\n",
    "remaining_sweets = total_sweets % num_pupils\n",
    "print(f\"Each pupil will receive {sweets_per_pupil} sweets.\")\n",
    "print(f\"The teacher will have {remaining_sweets} sweets left over.\")"
   ]
  }
 ],
 "metadata": {
  "kernelspec": {
   "display_name": "Python 3 (ipykernel)",
   "language": "python",
   "name": "python3"
  },
  "language_info": {
   "codemirror_mode": {
    "name": "ipython",
    "version": 3
   },
   "file_extension": ".py",
   "mimetype": "text/x-python",
   "name": "python",
   "nbconvert_exporter": "python",
   "pygments_lexer": "ipython3",
   "version": "3.10.9"
  }
 },
 "nbformat": 4,
 "nbformat_minor": 4
}
