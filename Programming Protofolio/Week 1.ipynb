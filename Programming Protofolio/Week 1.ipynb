{
 "cells": [
  {
   "cell_type": "markdown",
   "metadata": {},
   "source": [
    "## Fundamentals of Computer Programming"
   ]
  },
  {
   "cell_type": "markdown",
   "metadata": {},
   "source": [
    "### Week 1"
   ]
  },
  {
   "cell_type": "markdown",
   "metadata": {},
   "source": [
    "##### 1. Write a program that prints a cheery message (such as \"Hello World\") on the\n",
    "##### screen. Run it, and note that you have taken the first step to becoming a\n",
    "##### programmer!"
   ]
  },
  {
   "cell_type": "code",
   "execution_count": 3,
   "metadata": {},
   "outputs": [
    {
     "name": "stdout",
     "output_type": "stream",
     "text": [
      "Hello World\n"
     ]
    }
   ],
   "source": [
    "print(\"Hello World\")"
   ]
  },
  {
   "cell_type": "markdown",
   "metadata": {},
   "source": [
    "##### 2. Make a copy of the previous program, and modify it so that it displays your name.\n",
    "##### So if your name is Herbert the message should become:\n",
    "##### Hello, Herbert!\n"
   ]
  },
  {
   "cell_type": "code",
   "execution_count": 2,
   "metadata": {},
   "outputs": [
    {
     "name": "stdout",
     "output_type": "stream",
     "text": [
      "Hello, Herbert!\n"
     ]
    }
   ],
   "source": [
    "your_name=\"Herbert\"\n",
    "print(\"Hello, \" + your_name + \"!\")"
   ]
  },
  {
   "cell_type": "markdown",
   "metadata": {},
   "source": [
    "#####  3. Over the summer, temperatures in Yorkshire reached 38.4C. Write a program that\n",
    "##### converts this value in Celsius to the equivalent temperature in Fahrenheit, and then\n",
    "##### displays both."
   ]
  },
  {
   "cell_type": "code",
   "execution_count": 7,
   "metadata": {},
   "outputs": [
    {
     "name": "stdout",
     "output_type": "stream",
     "text": [
      "Temperature in Celsius: 38.4°C\n",
      "Temperature in Fahrenheit: 101.11999999999999°F\n"
     ]
    }
   ],
   "source": [
    "def celsius_to_fahrenheit(celsius):\n",
    "    return (celsius * 9/5) + 32\n",
    "celsius_temperature = 38.4\n",
    "fahrenheit_temperature = celsius_to_fahrenheit(celsius_temperature)\n",
    "print(f'Temperature in Celsius: {celsius_temperature}°C')\n",
    "print(f'Temperature in Fahrenheit: {fahrenheit_temperature}°F')"
   ]
  },
  {
   "cell_type": "markdown",
   "metadata": {},
   "source": [
    "##### 4. In a long career for Yorkshire, Geoffrey Boycott played 609 matches, batted 1014\n",
    "##### times, was not out 162 times, and scored 48426 runs. Write a program to calculate\n",
    "##### and display Boycott's batting average.\n"
   ]
  },
  {
   "cell_type": "code",
   "execution_count": 8,
   "metadata": {},
   "outputs": [
    {
     "name": "stdout",
     "output_type": "stream",
     "text": [
      "56.83802816901409\n"
     ]
    }
   ],
   "source": [
    "batted=1014\n",
    "not_out=162\n",
    "total_runs=48426\n",
    "innings=batted-not_out\n",
    "avg=total_runs/innings\n",
    "print(avg)"
   ]
  },
  {
   "cell_type": "markdown",
   "metadata": {},
   "source": [
    "##### 5. The Head of Computing at the University of Poppleton is tasked with dividing a\n",
    "##### group of students into lab groups. A lab group is 24 students, since this is the\n",
    "##### number of PCs in a lab. Write a program that calculates how many groups are\n",
    "##### needed for the following number of students: 113, 175, 12. Display how many full\n",
    "##### groups there will be, and how many students will be in the smaller \"left over\"\n",
    "##### group.\n"
   ]
  },
  {
   "cell_type": "code",
   "execution_count": 5,
   "metadata": {},
   "outputs": [
    {
     "name": "stdout",
     "output_type": "stream",
     "text": [
      "No of full groups: 4\n",
      "Left over students: 17\n"
     ]
    }
   ],
   "source": [
    "lab_group=24\n",
    "class_size=113\n",
    "\n",
    "full_groups=class_size//lab_group\n",
    "left_overs=class_size%lab_group\n",
    "\n",
    "print(\"No of full groups:\",full_groups)\n",
    "print(\"Left over students:\",left_overs)"
   ]
  }
 ],
 "metadata": {
  "kernelspec": {
   "display_name": "Python 3 (ipykernel)",
   "language": "python",
   "name": "python3"
  },
  "language_info": {
   "codemirror_mode": {
    "name": "ipython",
    "version": 3
   },
   "file_extension": ".py",
   "mimetype": "text/x-python",
   "name": "python",
   "nbconvert_exporter": "python",
   "pygments_lexer": "ipython3",
   "version": "3.10.9"
  }
 },
 "nbformat": 4,
 "nbformat_minor": 4
}
