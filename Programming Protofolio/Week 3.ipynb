{
 "cells": [
  {
   "cell_type": "markdown",
   "id": "c78a99b5-241f-485b-ad02-335b19a998a6",
   "metadata": {},
   "source": [
    "## Fundamentals of Computer Programming\n"
   ]
  },
  {
   "cell_type": "markdown",
   "id": "0f5b1516-0e2a-4322-8d5b-f880c3bf7515",
   "metadata": {},
   "source": [
    "### Week 3\n"
   ]
  },
  {
   "cell_type": "markdown",
   "id": "8cb1f0e1-117f-4a4f-b552-291e63e9931d",
   "metadata": {},
   "source": [
    "##### 1. Modify your greeting program so that if the user does not enter a name (i.e. theyjust press enter), the program responds \"Hello, Stranger!\". Otherwise it should print a greeting with their name as before.\n"
   ]
  },
  {
   "cell_type": "code",
   "execution_count": 1,
   "id": "aefcb4c7-0000-482d-b53b-4cdcd833c106",
   "metadata": {},
   "outputs": [
    {
     "name": "stdin",
     "output_type": "stream",
     "text": [
      "Enter name: \n"
     ]
    },
    {
     "name": "stdout",
     "output_type": "stream",
     "text": [
      "Hello Stranger\n"
     ]
    }
   ],
   "source": [
    "def user():\n",
    "    name = input(\"Enter name:\")\n",
    "    \n",
    "    if name:\n",
    "        print(\"Hello, \" + name + \". Good to meet you!\")\n",
    "    else:\n",
    "        print(\"Hello Stranger\")\n",
    "user()"
   ]
  },
  {
   "cell_type": "markdown",
   "id": "fb9635e7-3f38-4134-8445-729c13e4864f",
   "metadata": {},
   "source": [
    "##### 2. Write a program that simulates the way in which a user might choose a password.The program should prompt for a new password, and then prompt again. If the two passwords entered are the same the program should say \"Password Set\" or similar, otherwise it should report an error."
   ]
  },
  {
   "cell_type": "code",
   "execution_count": 4,
   "id": "f2005ff7-d44c-49a1-9712-284f5e936fd3",
   "metadata": {},
   "outputs": [
    {
     "name": "stdin",
     "output_type": "stream",
     "text": [
      "Enter a new password: Rishav\n",
      "Conform password: Rishav\n"
     ]
    },
    {
     "name": "stdout",
     "output_type": "stream",
     "text": [
      "Password Set\n"
     ]
    }
   ],
   "source": [
    "password1 = input(\"Enter a new password:\")\n",
    "password2 = input(\"Conform password:\")\n",
    "if password1 == password2:\n",
    "    print(\"Password Set\")\n",
    "else:\n",
    "    print(\"Error: Passwords do not match. Please try again.\")\n"
   ]
  },
  {
   "cell_type": "markdown",
   "id": "42e0cd4a-cca6-4148-94fd-bf81a0132801",
   "metadata": {},
   "source": [
    "##### 3. Modify your previous program so that the password must be between 8 and 12 characters (inclusive) long"
   ]
  },
  {
   "cell_type": "code",
   "execution_count": 5,
   "id": "4a731648-66a1-4519-bcf3-147191b1da20",
   "metadata": {},
   "outputs": [
    {
     "name": "stdin",
     "output_type": "stream",
     "text": [
      "Enter a new password: hsjdnekw\n",
      "Conform password: hsjsj\n"
     ]
    },
    {
     "name": "stdout",
     "output_type": "stream",
     "text": [
      "Error: Passwords do not match. Please try again.\n"
     ]
    }
   ],
   "source": [
    "password1 = input(\"Enter a new password:\")\n",
    "password2 = input(\"Conform password:\")\n",
    "if len(password1) >= 8 and len(password1) <= 12:\n",
    "    \n",
    "    if password1 == password2:\n",
    "        \n",
    "       print(\"Password Set\")\n",
    "    else:\n",
    "        \n",
    "       print(\"Error: Passwords do not match. Please try again.\")"
   ]
  },
  {
   "cell_type": "markdown",
   "id": "0b5d690b-9510-4fa5-bfd3-eaeede416956",
   "metadata": {},
   "source": [
    "##### 4. Modify your program again so that the chosen password cannot be one of a list of common passwords, defined thus:\n",
    "BAD_PASSWORDS = ['password', 'letmein', 'sesame', 'hello', 'justinbieber']"
   ]
  },
  {
   "cell_type": "code",
   "execution_count": 7,
   "id": "76f5a0c2-a42e-4e32-a2a1-35af0f9b92fe",
   "metadata": {},
   "outputs": [
    {
     "name": "stdin",
     "output_type": "stream",
     "text": [
      "Enter a new password: password\n"
     ]
    },
    {
     "name": "stdout",
     "output_type": "stream",
     "text": [
      "Error: This password is too common. Choose a different one.\n"
     ]
    },
    {
     "name": "stdin",
     "output_type": "stream",
     "text": [
      "Enter a new password: Rishav\n",
      "Confirm password: Rishav\n"
     ]
    },
    {
     "name": "stdout",
     "output_type": "stream",
     "text": [
      "Password Set\n"
     ]
    }
   ],
   "source": [
    "BAD_PASSWORDS = ['password', 'letmein', 'sesame', 'hello', 'justinbieber']\n",
    "password1 = input(\"Enter a new password:\")\n",
    "while password1 in BAD_PASSWORDS:\n",
    "    print(\"Error: This password is too common. Choose a different one.\")\n",
    "    password1 = input(\"Enter a new password:\")\n",
    "\n",
    "password2 = input(\"Confirm password:\")\n",
    "\n",
    "if password1 == password2:\n",
    "    print(\"Password Set\")\n",
    "else:\n",
    "    print(\"Error: Passwords do not match. Please try again.\")\n"
   ]
  },
  {
   "cell_type": "markdown",
   "id": "b1d03f01-6b05-4e1e-9e36-04f0a5276859",
   "metadata": {},
   "source": [
    "##### 5. Modify your program a final time so that it executes until the user successfully chooses a password. That is, if the password chosen fails any of the checks, the program should return to asking for the password the first time."
   ]
  },
  {
   "cell_type": "code",
   "execution_count": 9,
   "id": "8faefbc0-67a9-46da-af4b-e7d1c8f985ec",
   "metadata": {},
   "outputs": [
    {
     "name": "stdin",
     "output_type": "stream",
     "text": [
      "Enter a new password: Rishav\n",
      "Conform password: dhfjfkr\n"
     ]
    },
    {
     "name": "stdout",
     "output_type": "stream",
     "text": [
      "Error: Passwords do not match. Please try again.\n"
     ]
    },
    {
     "name": "stdin",
     "output_type": "stream",
     "text": [
      "Enter a new password: Rishav\n",
      "Conform password: nswkdkd\n"
     ]
    },
    {
     "name": "stdout",
     "output_type": "stream",
     "text": [
      "Error: Passwords do not match. Please try again.\n"
     ]
    },
    {
     "name": "stdin",
     "output_type": "stream",
     "text": [
      "Enter a new password: Rishav\n",
      "Conform password: Rishav\n"
     ]
    },
    {
     "name": "stdout",
     "output_type": "stream",
     "text": [
      "Password Set\n"
     ]
    }
   ],
   "source": [
    "while True:\n",
    "    \n",
    "   password1 = input(\"Enter a new password:\")\n",
    "   password2 = input(\"Conform password:\")\n",
    "    \n",
    "   if password1 == password2:\n",
    "    \n",
    "    print(\"Password Set\")\n",
    "    break\n",
    "    \n",
    "   else:\n",
    "    \n",
    "    print(\"Error: Passwords do not match. Please try again.\")\n"
   ]
  },
  {
   "cell_type": "markdown",
   "id": "18e603a2-203e-468d-a9cf-89fb922d97f3",
   "metadata": {},
   "source": [
    "##### 6. Write a program that displays the \"Seven Times Table\". That is, the result of multiplying 7 by every number from 0 to 12 inclusive. The output might start:\n",
    "0 x 7 = 0\n",
    "1 x 7 = 7\n",
    "2 x 7 = 14\n",
    "##### and so on."
   ]
  },
  {
   "cell_type": "code",
   "execution_count": 10,
   "id": "07a1c226-1cf4-44a6-8392-4607ef177b16",
   "metadata": {},
   "outputs": [
    {
     "name": "stdout",
     "output_type": "stream",
     "text": [
      "0 x 7 = 0\n",
      "1 x 7 = 7\n",
      "2 x 7 = 14\n",
      "3 x 7 = 21\n",
      "4 x 7 = 28\n",
      "5 x 7 = 35\n",
      "6 x 7 = 42\n",
      "7 x 7 = 49\n",
      "8 x 7 = 56\n",
      "9 x 7 = 63\n",
      "10 x 7 = 70\n",
      "11 x 7 = 77\n",
      "12 x 7 = 84\n"
     ]
    }
   ],
   "source": [
    "for i in range(13):\n",
    "    result = i * 7\n",
    "    print(f\"{i} x 7 = {result}\")"
   ]
  },
  {
   "cell_type": "markdown",
   "id": "31395711-bb0c-43ba-9a6e-cfb87f037ce2",
   "metadata": {},
   "source": [
    "##### 7. Modify your \"Times Table\" program so that the user enters the number of the table they require. This number should be between 0 and 12 inclusive.\n"
   ]
  },
  {
   "cell_type": "code",
   "execution_count": 12,
   "id": "bb883b2b-9ed4-43e3-bb74-8f61a79025d9",
   "metadata": {},
   "outputs": [
    {
     "name": "stdin",
     "output_type": "stream",
     "text": [
      "Enter the number for the  table (0 to 12):  4\n"
     ]
    },
    {
     "name": "stdout",
     "output_type": "stream",
     "text": [
      "0 x 4 = 0\n",
      "1 x 4 = 4\n",
      "2 x 4 = 8\n",
      "3 x 4 = 12\n",
      "4 x 4 = 16\n",
      "5 x 4 = 20\n",
      "6 x 4 = 24\n",
      "7 x 4 = 28\n",
      "8 x 4 = 32\n",
      "9 x 4 = 36\n",
      "10 x 4 = 40\n",
      "11 x 4 = 44\n",
      "12 x 4 = 48\n"
     ]
    }
   ],
   "source": [
    "table = int(input(\"Enter the number for the  table (0 to 12): \"))\n",
    "\n",
    "if 0 <= table <= 12:\n",
    "    for i in range(13):\n",
    "        result = i * table\n",
    "        print(f\"{i} x {table} = {result}\")"
   ]
  },
  {
   "cell_type": "markdown",
   "id": "cd947da7-a1fa-490a-8250-d28384e9452f",
   "metadata": {},
   "source": [
    "##### 8. Modify the \"Times Table\" again so that the user still enters the number of the table,\n",
    "##### but if this number is negative the table is printed backwards. So entering \"-7\"\n",
    "##### would produce the Seven Times Table starting at \"12 times\" down to \"0 times\".\n"
   ]
  },
  {
   "cell_type": "code",
   "execution_count": 13,
   "id": "94da189a-d274-4916-a104-b02e227cd5b5",
   "metadata": {},
   "outputs": [
    {
     "name": "stdin",
     "output_type": "stream",
     "text": [
      "Enter the number for the  table (0 to 12):  -7\n"
     ]
    },
    {
     "name": "stdout",
     "output_type": "stream",
     "text": [
      "12 x -7 = 84\n",
      "11 x -7 = 77\n",
      "10 x -7 = 70\n",
      "9 x -7 = 63\n",
      "8 x -7 = 56\n",
      "7 x -7 = 49\n",
      "6 x -7 = 42\n",
      "5 x -7 = 35\n",
      "4 x -7 = 28\n",
      "3 x -7 = 21\n",
      "2 x -7 = 14\n",
      "1 x -7 = 7\n",
      "0 x -7 = 0\n"
     ]
    }
   ],
   "source": [
    "table = int(input(\"Enter the number for the  table (0 to 12): \"))\n",
    "\n",
    "if -12 <= table <= 12:\n",
    "    if table>=0:\n",
    "        \n",
    "         for i in range(13):\n",
    "                \n",
    "               result = i * table\n",
    "               print(f\"{i} x {table} = {result}\")\n",
    "    else:\n",
    "        for i in range(12, -1, -1):\n",
    "            result = i * (-table)\n",
    "            print(f\"{i} x {table} = {result}\")"
   ]
  }
 ],
 "metadata": {
  "kernelspec": {
   "display_name": "Python 3 (ipykernel)",
   "language": "python",
   "name": "python3"
  },
  "language_info": {
   "codemirror_mode": {
    "name": "ipython",
    "version": 3
   },
   "file_extension": ".py",
   "mimetype": "text/x-python",
   "name": "python",
   "nbconvert_exporter": "python",
   "pygments_lexer": "ipython3",
   "version": "3.10.9"
  }
 },
 "nbformat": 4,
 "nbformat_minor": 5
}
